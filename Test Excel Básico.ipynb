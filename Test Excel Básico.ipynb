{
  "nbformat": 4,
  "nbformat_minor": 0,
  "metadata": {
    "colab": {
      "name": "Test Excel Básico.ipynb",
      "provenance": []
    },
    "kernelspec": {
      "name": "python3",
      "display_name": "Python 3"
    },
    "language_info": {
      "name": "python"
    }
  },
  "cells": [
    {
      "cell_type": "markdown",
      "source": [
        "### Excel Básico"
      ],
      "metadata": {
        "id": "82tYmZ_a8eyC"
      }
    },
    {
      "cell_type": "markdown",
      "source": [
        "* La utilidad principal de Excel es:\n",
        "      Procesar información numérica o de texto de manera automática.\n",
        "\n",
        "\n",
        "* Una condición especial al momento de importar datos en Excel es:\n",
        "      Ninguna de las opciones.\n",
        "\n",
        "\n",
        "* ¿Cuál de las siguientes herramientas NO es una herramienta de Excel?\n",
        "      Todas son herramientas de Excel.\n",
        "\n",
        "\n",
        "* En Excel la herramienta Filtro es útil para todas estas cosas, excepto para:\n",
        "      Elegir una columna específica de una base de datos.\n",
        "\n",
        "\n",
        "* Los tres componentes básicos del entorno de Excel son:\n",
        "      Libro, hoja y celda.\n",
        "\n",
        "\n",
        "* La estructura adecuada de argumentos dentro de la función \"BUSCARV\" es:\n",
        "      =BuscarV(valor-buscar; tabla-conjunto; col-índice-num; [,[rango-buscar-marcador]])\n",
        "\n",
        "\n",
        "* Los errores más comunes que puedo obtener en Excel son:\n",
        "      #N/D, #NOMBRE, #REF, #DIV y #VALOR\n",
        "\n",
        "\n",
        "* Dos de las malas prácticas al trabajar con bases de datos son:\n",
        "      Dejar valores numéricos en formato texto y no limpiar espacios innecesarios en las celdas.\n",
        "\n",
        "\n",
        "* Las listas desplegables dependientes las utilizo cuando tengo subcategorías de datos únicos para las opciones de la lista desplegable sencilla inicial.\n",
        "      Verdadero\n",
        "\n",
        "* La función que me ayuda a juntar el contenido de dos celdas en una sola es:\n",
        "La diferencia entre la fucnión SUMAR y CONTAR es:\n",
        "      CONCATENAR()\n",
        "\n",
        "\n",
        "* La diferencia entre la función SUMAR y CONTAR es:\n",
        "      La función SUMAR, realiza una suma del contenido numérico de las celdas, la función CONTAR, suma el número de celdas que tienen algún valor.\n",
        "\n",
        "\n",
        "* Una técnica efectiva y rápida para verificar la efectividad de las funciones relativas es:\n",
        "      Hacer filtros en la Base de datos y ejecutar la operación en los datos de la columna filtrada.\n",
        "\n",
        "\n",
        "* Una herramienta que ayuda a agilizar las operaciones y uso de funciones en Excel es:\n",
        "      Utilizar nombres para los rangos de celdas.\n",
        "\n",
        "\n",
        "* La estructura adecuada de argumentos dentro de la función condicional \"SI\" es:\n",
        "      =SI(condición; valor-verdadero; valor-falso)\n",
        "\n",
        "\n",
        "* El uso principal de los semáforos en Excel es dar diseño y armonía a la base de datos.\n",
        "      Falso\n",
        "\n",
        "      \n",
        "* La gráfica adecuada para mostrar participación por categoría es:\n",
        "      Gráfica de torta.\n",
        "\n",
        "\n",
        "* Se recomienda proteger los libros de Excel cuando:\n",
        "      Vas a compartirlo con otras personas.\n",
        "\n",
        "\n",
        "* La herramienta que nos ayuda a hacer links fáciles a otras hojas o archivos se llama:\n",
        "      Vínculo"
      ],
      "metadata": {
        "id": "uLG5SCIT8mDb"
      }
    }
  ]
}